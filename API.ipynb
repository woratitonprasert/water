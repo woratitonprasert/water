{
 "cells": [
  {
   "cell_type": "code",
   "execution_count": 1,
   "metadata": {},
   "outputs": [],
   "source": [
    "import pandas as pd\n",
    "import requests\n",
    "\n",
    "\n",
    "def water_API_loader(start_load_date, end_load_date) -> pd.DataFrame:\n",
    "\n",
    "    start_date = start_load_date\n",
    "    end_date = end_load_date \n",
    "\n",
    "    # Generate date range\n",
    "    date_list = pd.date_range(start=start_date, end=end_date, freq='D').strftime(\"%Y-%m-%d\").tolist()\n",
    "    date_list\n",
    "\n",
    "    for date in date_list:\n",
    "        # Define the target URL\n",
    "        url = \"http://rwc.mwa.co.th/page/stats/table.php\"\n",
    "\n",
    "        # Define the payload\n",
    "        payload = {\n",
    "            \"id\": \"S1\",\n",
    "            \"dt2\": f\"{date}\",\n",
    "            \"ntype\": \"1HOUR\"\n",
    "        }\n",
    "\n",
    "        # Set headers (optional, but helps mimic a real browser request)\n",
    "        headers = {\n",
    "            \"Content-Type\": \"application/x-www-form-urlencoded\",\n",
    "            # \"User-Agent\": \"Mozilla/5.0\"\n",
    "        }\n",
    "\n",
    "        # Make a POST request\n",
    "        response = requests.post(url, data=payload, headers=headers)\n",
    "\n",
    "        # Check if the request was successful\n",
    "        if response.status_code == 200:\n",
    "            # Read tables from the HTML response\n",
    "            \n",
    "            tables = pd.read_html(response.text)\n",
    "            tables[0].to_csv(f\"{payload['dt2']}\")\n",
    "            print(f\"Saved {payload['dt2']}\")\n",
    "        else:\n",
    "            print(f\"Failed to retrieve data: {payload['dt2']}\", response.status_code)\n"
   ]
  },
  {
   "cell_type": "code",
   "execution_count": 2,
   "metadata": {},
   "outputs": [
    {
     "name": "stdout",
     "output_type": "stream",
     "text": [
      "Saved 2025-01-01\n",
      "Saved 2025-01-02\n",
      "Saved 2025-01-03\n",
      "Saved 2025-01-04\n",
      "Saved 2025-01-05\n",
      "Saved 2025-01-06\n",
      "Saved 2025-01-07\n",
      "Saved 2025-01-08\n",
      "Saved 2025-01-09\n",
      "Saved 2025-01-10\n",
      "Saved 2025-01-11\n",
      "Saved 2025-01-12\n",
      "Saved 2025-01-13\n",
      "Saved 2025-01-14\n",
      "Saved 2025-01-15\n",
      "Saved 2025-01-16\n",
      "Saved 2025-01-17\n",
      "Saved 2025-01-18\n",
      "Saved 2025-01-19\n",
      "Saved 2025-01-20\n",
      "Saved 2025-01-21\n",
      "Saved 2025-01-22\n",
      "Saved 2025-01-23\n",
      "Saved 2025-01-24\n",
      "Saved 2025-01-25\n",
      "Saved 2025-01-26\n",
      "Saved 2025-01-27\n",
      "Saved 2025-01-28\n",
      "Saved 2025-01-29\n",
      "Saved 2025-01-30\n",
      "Saved 2025-01-31\n",
      "Saved 2025-02-01\n",
      "Saved 2025-02-02\n",
      "Saved 2025-02-03\n",
      "Saved 2025-02-04\n",
      "Saved 2025-02-05\n",
      "Saved 2025-02-06\n",
      "Saved 2025-02-07\n"
     ]
    }
   ],
   "source": [
    "start_load_date = '2025-01-01'\n",
    "end_load_date = '2025-02-07'\n",
    "\n",
    "water_API_loader(start_load_date,end_load_date)"
   ]
  },
  {
   "cell_type": "code",
   "execution_count": null,
   "metadata": {},
   "outputs": [],
   "source": []
  }
 ],
 "metadata": {
  "kernelspec": {
   "display_name": "Python 3",
   "language": "python",
   "name": "python3"
  },
  "language_info": {
   "codemirror_mode": {
    "name": "ipython",
    "version": 3
   },
   "file_extension": ".py",
   "mimetype": "text/x-python",
   "name": "python",
   "nbconvert_exporter": "python",
   "pygments_lexer": "ipython3",
   "version": "3.11.9"
  }
 },
 "nbformat": 4,
 "nbformat_minor": 2
}
